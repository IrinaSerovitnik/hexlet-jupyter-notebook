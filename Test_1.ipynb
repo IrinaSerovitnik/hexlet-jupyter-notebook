{
 "cells": [
  {
   "cell_type": "markdown",
   "id": "af144327-1656-4cf1-9dc2-c72854c15bf4",
   "metadata": {},
   "source": [
    "Тестовый блокнот"
   ]
  },
  {
   "cell_type": "code",
   "execution_count": 4,
   "id": "073d1515-5cef-4714-a1af-1fe64358b98d",
   "metadata": {},
   "outputs": [
    {
     "name": "stdout",
     "output_type": "stream",
     "text": [
      "¡Hola, mundo!\n"
     ]
    }
   ],
   "source": [
    "print('¡Hola, mundo!')"
   ]
  }
 ],
 "metadata": {
  "kernelspec": {
   "display_name": "Python 3 (ipykernel)",
   "language": "python",
   "name": "python3"
  },
  "language_info": {
   "codemirror_mode": {
    "name": "ipython",
    "version": 3
   },
   "file_extension": ".py",
   "mimetype": "text/x-python",
   "name": "python",
   "nbconvert_exporter": "python",
   "pygments_lexer": "ipython3",
   "version": "3.11.5"
  }
 },
 "nbformat": 4,
 "nbformat_minor": 5
}
